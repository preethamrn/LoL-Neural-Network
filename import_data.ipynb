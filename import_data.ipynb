{
 "cells": [
  {
   "cell_type": "code",
   "execution_count": 2,
   "metadata": {
    "collapsed": false
   },
   "outputs": [],
   "source": [
    "import requests, pickle\n",
    "from pathlib import Path\n",
    "\n",
    "token = '?token=0GRsvLM7WAKI_IYq4TTVxQ44oa4PNCz0P1dLKISoDnsTSpG8qAk'\n",
    "\n",
    "# Static champion data\n",
    "champions = 'https://api.pandascore.co/lol/v1/champions'\n",
    "\n",
    "# Base URLs\n",
    "allTournamentsURL = 'http://api.pandascore.co/lol/v1/tournamentlist'\n",
    "baseMatchURL = 'https://api.pandascore.co/lol/v1/matches/'\n",
    "baseTournamentURL = 'https://api.pandascore.co/lol/v1/tournaments/'\n",
    "basePlayerURL = 'http://api.pandascore.co/lol/v1/players/'\n",
    "baseChampionsURL = 'http://api.pandascore.co/lol/v1/champions'"
   ]
  },
  {
   "cell_type": "code",
   "execution_count": 3,
   "metadata": {
    "collapsed": false
   },
   "outputs": [],
   "source": [
    "champions = dict()\n",
    "\n",
    "# get list of champions\n",
    "if(Path('champions.pickle').is_file()): #check if data already exists\n",
    "    with open('champions.pickle', 'rb') as f:\n",
    "        champions = pickle.load(f)\n",
    "else:\n",
    "    r_champions = requests.get(baseChampionsURL+token)\n",
    "    champs = r_champions.json()\n",
    "    #map champID -> champion for easier access\n",
    "    smallID = 0\n",
    "    for champ in champs:\n",
    "        champ['smallID'] = smallID\n",
    "        champions[champ['id']] = champ\n",
    "        smallID += 1\n",
    "    with open('champions.pickle', 'wb') as f:\n",
    "        pickle.dump(champions, f)\n",
    "        \n",
    "championNames_dict = dict()\n",
    "if(Path('championNames_dict.pickle').is_file()):\n",
    "    with open('championNames_dict.pickle', 'rb') as f:\n",
    "        championNames_dict = pickle.load(f)\n",
    "else:\n",
    "    for key, champ in champions.items():\n",
    "        championNames_dict[champ['name']] = champ\n",
    "    with open('championNames_dict.pickle', 'wb') as f:\n",
    "        pickle.dump(championNames_dict, f)"
   ]
  },
  {
   "cell_type": "code",
   "execution_count": 4,
   "metadata": {
    "collapsed": false
   },
   "outputs": [
    {
     "name": "stdout",
     "output_type": "stream",
     "text": [
      "84\n"
     ]
    }
   ],
   "source": [
    "tournaments = list()\n",
    "\n",
    "# get list of tournaments\n",
    "if(Path('tournaments.pickle').is_file()):\n",
    "    with open('tournaments.pickle', 'rb') as f:\n",
    "        tournaments = pickle.load(f)\n",
    "else:\n",
    "    r_tournaments = requests.get(allTournamentsURL + token)\n",
    "    tournaments = r_tournaments.json()\n",
    "    #pickle tournaments\n",
    "    with open('tournaments.pickle', 'wb') as f:\n",
    "        pickle.dump(tournaments, f)\n",
    "\n",
    "print(len(tournaments))"
   ]
  },
  {
   "cell_type": "code",
   "execution_count": 5,
   "metadata": {
    "collapsed": false,
    "scrolled": false
   },
   "outputs": [
    {
     "name": "stdout",
     "output_type": "stream",
     "text": [
      "1534\n"
     ]
    }
   ],
   "source": [
    "matchIDs = set()\n",
    "\n",
    "if(Path('matchIDs.pickle').is_file()):\n",
    "    with open('matchIDs.pickle', 'rb') as f:\n",
    "        matchIDs = pickle.load(f)\n",
    "else:\n",
    "    # get list of match IDs from tournaments\n",
    "    for t in tournaments:\n",
    "        r_tournament = requests.get(baseTournamentURL + str(t['id']) + token)\n",
    "        tournament = r_tournament.json()\n",
    "        for m in tournament['matches']:\n",
    "            matchIDs.add(m['id'])\n",
    "        print(tournament['name'] + ': (' + str(tournament['id']) + '): ' + str(len(matchIDs)))\n",
    "\n",
    "    #pickle matchIDs\n",
    "    with open('matchIDs.pickle', 'wb') as f:\n",
    "        pickle.dump(matchIDs, f)\n",
    "\n",
    "print(len(matchIDs))"
   ]
  },
  {
   "cell_type": "code",
   "execution_count": 6,
   "metadata": {
    "collapsed": false,
    "scrolled": true
   },
   "outputs": [
    {
     "name": "stdout",
     "output_type": "stream",
     "text": [
      "1534\n"
     ]
    }
   ],
   "source": [
    "matchData = list()\n",
    "\n",
    "if(Path('matchData.pickle').is_file()):\n",
    "    with open('matchData.pickle', 'rb') as f:\n",
    "        matchData = pickle.load(f)\n",
    "else:\n",
    "    for i, matchID in enumerate(matchIDs):\n",
    "        r_match = requests.get(baseMatchURL + str(matchID) + token)\n",
    "        match = r_match.json()\n",
    "        matchData.append(match)\n",
    "        \n",
    "        print(str(i) + ') ' + str(match['id']) + ': ' + match['name'])\n",
    "\n",
    "    # store the object data into a pickle\n",
    "    with open('matchData.pickle', 'wb') as f:\n",
    "        pickle.dump(matchData, f)\n",
    "\n",
    "print(len(matchData))\n",
    "\n",
    "# TODO:\n",
    "# only store the champion, ban, player, teamID, and winner data in a separate object\n",
    "# filter out matches that don't have team/roster/winner/champion information or aren't on Summoner's rift or aren't 5v5\n"
   ]
  },
  {
   "cell_type": "code",
   "execution_count": 7,
   "metadata": {
    "collapsed": false,
    "scrolled": true
   },
   "outputs": [
    {
     "name": "stdout",
     "output_type": "stream",
     "text": [
      "669\n",
      "669\n"
     ]
    }
   ],
   "source": [
    "playerIDs = set()\n",
    "\n",
    "# get set of unique playerIDs\n",
    "for match in matchData:\n",
    "    if not match['teams'] is None:\n",
    "        for team in match['teams']:\n",
    "            if 'roster' in team:\n",
    "                for player in team['roster']:\n",
    "                    if type(player) is dict:\n",
    "                        playerIDs.add(player['id'])\n",
    "\n",
    "print(len(playerIDs))\n",
    "\n",
    "players = dict()\n",
    "\n",
    "if(Path('players_dict.pickle').is_file()):\n",
    "    with open('players.pickle', 'rb') as f:\n",
    "        players = pickle.load(f)\n",
    "else:\n",
    "    for i, playerID in enumerate(playerIDs):\n",
    "        r_player = requests.get(basePlayerURL + str(playerID) + token)\n",
    "        player = r_player.json()\n",
    "        if not player['name'] is None:\n",
    "            print(str(i) + ') ' + str(playerID) + ': ' + player['name'])\n",
    "        players[playerID] = player\n",
    "        \n",
    "    # store the player data into a pickle\n",
    "    with open('players_dict.pickle', 'wb') as f:\n",
    "        pickle.dump(players, f)\n",
    "\n",
    "print(len(players))"
   ]
  },
  {
   "cell_type": "markdown",
   "metadata": {},
   "source": [
    "# Game Schema\n",
    "ID //game ID\n",
    "tip_<position>_champID //champID for all players on all teams.\n",
    "ti_avg_AD //avg attack damage for each team\n",
    "ti_avg_HP //avg HP for each team\n",
    "ti_avg_AS //avg attack speed for each team\n",
    "ti_avg_MR //avg magic resist for each team\n",
    "ti_avg_ARM //avg armor for each team\n",
    "winner //0 if t0 won; 1 if t1 won\n",
    "\n",
    "NOTES:\n",
    "-all avg stats are taken at level 11 (good or bad?? favors good mid game champions)\n",
    "\n",
    "FUTURE:\n",
    "-tipi_skill \n",
    "//skill rating for each player (if player doesn't have a skill, the avg skill of their team is used)\n",
    "//unavailable because API doesn't return player skill\n",
    "\n",
    "-ti_color\n",
    "//not sure if useful\n",
    "//data may be null often\n",
    "\n",
    "-ti_ID //team ID. Not really needed other than identification infomation"
   ]
  },
  {
   "cell_type": "code",
   "execution_count": 39,
   "metadata": {
    "collapsed": false
   },
   "outputs": [],
   "source": [
    "gameData = list()\n",
    "\n",
    "winCount = dict()\n",
    "gameCount = dict()\n",
    "\n",
    "def getTeamNumber(m, teamID):\n",
    "    return 0 if teamID == m['t0_ID'] else 1 if teamID == m['t1_ID'] else -1\n",
    "\n",
    "class InputError(Exception):\n",
    "    def __init__(self, expression, message):\n",
    "        self.expression = expression #input expression in which the error occurred\n",
    "        self.message = message #explanation of the error\n",
    "\n",
    "championStats = ['armorperlevel','mpperlevel','attackdamage','hpregen','critperlevel','hpregenperlevel','spellblockperlevel',\n",
    "                 'attackdamageperlevel','hp','attackspeedperlevel','movespeed','hpperlevel','crit','mpregen','mpregenperlevel',\n",
    "                 'attackrange','spellblock','mp','armor','attackspeedoffset']\n",
    "\n",
    "if(Path('gameData.pickle').is_file()):\n",
    "    with open('gameData.pickle', 'rb') as f:\n",
    "        pass\n",
    "else:\n",
    "    # get the winpct for each team\n",
    "    for match in matchData:\n",
    "        if match is None or len(match['games']) < 0:\n",
    "            continue\n",
    "        \n",
    "        if not match['games'] is None:\n",
    "            for game in match['games']:\n",
    "                try:\n",
    "                    if len(game['game_teams']) != 2:\n",
    "                        raise InputError('Wrong number of teams', str(len(game['game_teams'])))    \n",
    "                    if game['winner_id'] != game['game_teams'][0]['team_id'] and game['winner_id'] != game['game_teams'][1]['team_id']:\n",
    "                        continue\n",
    "                    for team in game['game_teams']:\n",
    "                        gameCount[team['team_id']] = 1 if team['team_id'] not in gameCount else gameCount[team['team_id']]+1\n",
    "                    winCount[game['winner_id']] = 1 if game['winner_id'] not in winCount else winCount[team['team_id']]+1\n",
    "                except (TypeError, KeyError, InputError):\n",
    "                    continue\n",
    "\n",
    "if(Path('gameData.pickle').is_file()):\n",
    "    with open('gameData.pickle', 'rb') as f:\n",
    "        gameData = pickle.load(f)   \n",
    "else:\n",
    "    # clean the match json into a list of simple dicts for each game, based on schema\n",
    "    for match in matchData:\n",
    "        if match is None or len(match['games']) < 0:\n",
    "            continue\n",
    "        \n",
    "        # match data (doesn't change between games. eg. team id, roster)\n",
    "        m = dict()\n",
    "        try:\n",
    "            if len(match['teams']) != 2:\n",
    "                raise InputError('Wrong number of teams', str(len(match['teams'])))\n",
    "            for i, team in enumerate(match['teams']):\n",
    "                m['t'+str(i)+'_ID'] = team['id']\n",
    "        except (TypeError, KeyError, InputError):\n",
    "            continue\n",
    "        \n",
    "        if not match['games'] is None:\n",
    "            for game in match['games']:\n",
    "                try:\n",
    "                    # building data for each game\n",
    "                    g = dict()\n",
    "                    if len(game['game_teams']) != 2:\n",
    "                        raise InputError('Wrong number of teams', str(len(game['game_teams'])))\n",
    "                    for team in game['game_teams']:\n",
    "                        teamNum = str(getTeamNumber(m, team['team_id']))\n",
    "                        if(teamNum == '-1'):\n",
    "                            raise InputError('Team not found', str(team['team_id']) + str(m))\n",
    "\n",
    "                        g['t'+teamNum+'_winPct'] = winCount[team['team_id']]/gameCount[team['team_id']]\n",
    "\n",
    "                        # initialize all the stats to 0                        \n",
    "                        for stat in championStats:\n",
    "                            g['t'+teamNum+'_'+stat] = 0\n",
    "                        \n",
    "                        for player in team['game_player_teams']:\n",
    "                            champID = player['champion_id']\n",
    "                            g['t'+teamNum+'p_'+player['position']+'_champID'] = champID\n",
    "                            champ = champions[champID]\n",
    "                                                        \n",
    "                            for stat in championStats:\n",
    "                                g['t'+teamNum+'_'+stat] += champ[stat]\n",
    "                                \n",
    "\n",
    "                    g['ID'] = game['id']\n",
    "                    g['winner'] = getTeamNumber(m, game['winner_id'])\n",
    "                    gameData.append(g)\n",
    "                except (TypeError, KeyError, InputError):\n",
    "                    continue\n",
    "                \n",
    "        \n",
    "    with open('gameData.pickle', 'wb') as f:\n",
    "        pickle.dump(gameData, f)"
   ]
  },
  {
   "cell_type": "code",
   "execution_count": 9,
   "metadata": {
    "collapsed": false
   },
   "outputs": [],
   "source": [
    "# get more useful aggregated champion stats from champions.gg\n",
    "import json\n",
    "\n",
    "with open('championWinRates.json') as f:\n",
    "    championStats = json.load(f)\n",
    "\n",
    "# initialize all WRs to 50 (%) which is moved down to 20 (%)\n",
    "for k, champ in champions.items():\n",
    "    for role in ['Jungle', 'Top', 'ADC', 'Support', 'Middle']:\n",
    "        champ['WR_'+role] = 20\n",
    "    \n",
    "for stat in championStats:\n",
    "    champName = stat['title']\n",
    "    role = stat['role']\n",
    "    winrate = stat['general']['winPercent'] - 30\n",
    "    # NOTE: can use more champion stats if needed\n",
    "    \n",
    "    champions[championNames_dict[champName]['id']]['WR_' + role] = winrate\n",
    "\n",
    "with open('champions.pickle', 'wb') as f:\n",
    "    pickle.dump(champions, f)"
   ]
  },
  {
   "cell_type": "code",
   "execution_count": 10,
   "metadata": {
    "collapsed": false
   },
   "outputs": [
    {
     "name": "stdout",
     "output_type": "stream",
     "text": [
      "{'Top', 'ADC', 'Support', 'Middle', 'Jungle'}\n"
     ]
    }
   ],
   "source": [
    "roles = set()\n",
    "for stat in championStats:\n",
    "    roles.add(stat['role'])\n",
    "    \n",
    "print(roles)"
   ]
  },
  {
   "cell_type": "code",
   "execution_count": null,
   "metadata": {
    "collapsed": true
   },
   "outputs": [],
   "source": []
  }
 ],
 "metadata": {
  "anaconda-cloud": {},
  "kernelspec": {
   "display_name": "Python [conda root]",
   "language": "python",
   "name": "conda-root-py"
  },
  "language_info": {
   "codemirror_mode": {
    "name": "ipython",
    "version": 3
   },
   "file_extension": ".py",
   "mimetype": "text/x-python",
   "name": "python",
   "nbconvert_exporter": "python",
   "pygments_lexer": "ipython3",
   "version": "3.5.2"
  }
 },
 "nbformat": 4,
 "nbformat_minor": 1
}
